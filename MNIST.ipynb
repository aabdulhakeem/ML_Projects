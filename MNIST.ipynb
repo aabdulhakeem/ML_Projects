{
  "cells": [
    {
      "cell_type": "markdown",
      "metadata": {
        "id": "UKhwWs2dqRAq"
      },
      "source": [
        "#MNIST Dataset Using SVMs"
      ]
    },
    {
      "cell_type": "markdown",
      "metadata": {
        "id": "I-RmvyIIqggR"
      },
      "source": [
        "##0. [Importing needed libraries](#0)\n",
        "##1. [Getting the data ready](#1)\n",
        "##2. [Using SVM Model](#2)"
      ]
    },
    {
      "cell_type": "markdown",
      "metadata": {
        "id": "ivLOn07whIvO"
      },
      "source": [
        "## 0. Importing needed libraries <a name=\"0\"></a>"
      ]
    },
    {
      "cell_type": "code",
      "execution_count": 243,
      "metadata": {
        "id": "bz-cvJXkqFD6"
      },
      "outputs": [],
      "source": [
        "import pandas as pd\n",
        "import numpy as np\n",
        "from sklearn.model_selection import train_test_split\n",
        "from matplotlib import pyplot as plt\n",
        "from sklearn.preprocessing import StandardScaler, Normalizer\n",
        "from sklearn.datasets import fetch_openml\n",
        "from cvxopt import matrix, solvers\n",
        "from sklearn.metrics import accuracy_score, classification_report\n"
      ]
    },
    {
      "cell_type": "markdown",
      "metadata": {
        "id": "l0urrV0KrNI6"
      },
      "source": [
        "## 1. Getting the data ready <a name=\"1\"></a>\n",
        "* ### [importing the data](#1.1)\n",
        "* ### [Data Preprocessing](#1.2)\n",
        "* ### [splitting the data](#1.3)"
      ]
    },
    {
      "cell_type": "markdown",
      "metadata": {
        "id": "Y4bW25iphwzT"
      },
      "source": [
        "### importing the data <a name=\"1.1\"></a>"
      ]
    },
    {
      "cell_type": "code",
      "execution_count": 244,
      "metadata": {
        "id": "PlNKK3q7rvpO",
        "colab": {
          "base_uri": "https://localhost:8080/",
          "height": 241
        },
        "outputId": "c09599a6-5153-4f19-82f2-0a1f813a893f"
      },
      "outputs": [
        {
          "output_type": "execute_result",
          "data": {
            "text/plain": [
              "0    5\n",
              "1    0\n",
              "2    4\n",
              "3    1\n",
              "4    9\n",
              "Name: class, dtype: int64"
            ],
            "text/html": [
              "<div>\n",
              "<style scoped>\n",
              "    .dataframe tbody tr th:only-of-type {\n",
              "        vertical-align: middle;\n",
              "    }\n",
              "\n",
              "    .dataframe tbody tr th {\n",
              "        vertical-align: top;\n",
              "    }\n",
              "\n",
              "    .dataframe thead th {\n",
              "        text-align: right;\n",
              "    }\n",
              "</style>\n",
              "<table border=\"1\" class=\"dataframe\">\n",
              "  <thead>\n",
              "    <tr style=\"text-align: right;\">\n",
              "      <th></th>\n",
              "      <th>class</th>\n",
              "    </tr>\n",
              "  </thead>\n",
              "  <tbody>\n",
              "    <tr>\n",
              "      <th>0</th>\n",
              "      <td>5</td>\n",
              "    </tr>\n",
              "    <tr>\n",
              "      <th>1</th>\n",
              "      <td>0</td>\n",
              "    </tr>\n",
              "    <tr>\n",
              "      <th>2</th>\n",
              "      <td>4</td>\n",
              "    </tr>\n",
              "    <tr>\n",
              "      <th>3</th>\n",
              "      <td>1</td>\n",
              "    </tr>\n",
              "    <tr>\n",
              "      <th>4</th>\n",
              "      <td>9</td>\n",
              "    </tr>\n",
              "  </tbody>\n",
              "</table>\n",
              "</div><br><label><b>dtype:</b> int64</label>"
            ]
          },
          "metadata": {},
          "execution_count": 244
        }
      ],
      "source": [
        "mnist = fetch_openml('mnist_784',version=1)\n",
        "X,y = mnist.data,mnist.target\n",
        "y = y.astype(int)\n",
        "y.head()"
      ]
    },
    {
      "cell_type": "code",
      "execution_count": 245,
      "metadata": {
        "id": "JvGvwWRiuo1z",
        "colab": {
          "base_uri": "https://localhost:8080/"
        },
        "outputId": "d2051c86-5273-46f8-a594-17def972c0dd"
      },
      "outputs": [
        {
          "output_type": "execute_result",
          "data": {
            "text/plain": [
              "((70000, 784), (70000,))"
            ]
          },
          "metadata": {},
          "execution_count": 245
        }
      ],
      "source": [
        "X.shape,y.shape"
      ]
    },
    {
      "cell_type": "markdown",
      "metadata": {
        "id": "QKPOHrwciBow"
      },
      "source": [
        "### Data Preprocessing <a name=\"1.2\"></a>"
      ]
    },
    {
      "cell_type": "code",
      "source": [
        "for col in X.columns:\n",
        "    if (X[col] == 0).all():\n",
        "      X.drop(col,axis=1,inplace=True)"
      ],
      "metadata": {
        "colab": {
          "base_uri": "https://localhost:8080/"
        },
        "id": "8d93gvDt0YnS",
        "outputId": "6f2c770d-636e-425b-db9b-d5a1a3c20ad6",
        "collapsed": true
      },
      "execution_count": 246,
      "outputs": [
        {
          "output_type": "stream",
          "name": "stderr",
          "text": [
            "<ipython-input-246-6083621169cd>:3: SettingWithCopyWarning: \n",
            "A value is trying to be set on a copy of a slice from a DataFrame\n",
            "\n",
            "See the caveats in the documentation: https://pandas.pydata.org/pandas-docs/stable/user_guide/indexing.html#returning-a-view-versus-a-copy\n",
            "  X.drop(col,axis=1,inplace=True)\n",
            "<ipython-input-246-6083621169cd>:3: SettingWithCopyWarning: \n",
            "A value is trying to be set on a copy of a slice from a DataFrame\n",
            "\n",
            "See the caveats in the documentation: https://pandas.pydata.org/pandas-docs/stable/user_guide/indexing.html#returning-a-view-versus-a-copy\n",
            "  X.drop(col,axis=1,inplace=True)\n",
            "<ipython-input-246-6083621169cd>:3: SettingWithCopyWarning: \n",
            "A value is trying to be set on a copy of a slice from a DataFrame\n",
            "\n",
            "See the caveats in the documentation: https://pandas.pydata.org/pandas-docs/stable/user_guide/indexing.html#returning-a-view-versus-a-copy\n",
            "  X.drop(col,axis=1,inplace=True)\n",
            "<ipython-input-246-6083621169cd>:3: SettingWithCopyWarning: \n",
            "A value is trying to be set on a copy of a slice from a DataFrame\n",
            "\n",
            "See the caveats in the documentation: https://pandas.pydata.org/pandas-docs/stable/user_guide/indexing.html#returning-a-view-versus-a-copy\n",
            "  X.drop(col,axis=1,inplace=True)\n",
            "<ipython-input-246-6083621169cd>:3: SettingWithCopyWarning: \n",
            "A value is trying to be set on a copy of a slice from a DataFrame\n",
            "\n",
            "See the caveats in the documentation: https://pandas.pydata.org/pandas-docs/stable/user_guide/indexing.html#returning-a-view-versus-a-copy\n",
            "  X.drop(col,axis=1,inplace=True)\n",
            "<ipython-input-246-6083621169cd>:3: SettingWithCopyWarning: \n",
            "A value is trying to be set on a copy of a slice from a DataFrame\n",
            "\n",
            "See the caveats in the documentation: https://pandas.pydata.org/pandas-docs/stable/user_guide/indexing.html#returning-a-view-versus-a-copy\n",
            "  X.drop(col,axis=1,inplace=True)\n",
            "<ipython-input-246-6083621169cd>:3: SettingWithCopyWarning: \n",
            "A value is trying to be set on a copy of a slice from a DataFrame\n",
            "\n",
            "See the caveats in the documentation: https://pandas.pydata.org/pandas-docs/stable/user_guide/indexing.html#returning-a-view-versus-a-copy\n",
            "  X.drop(col,axis=1,inplace=True)\n",
            "<ipython-input-246-6083621169cd>:3: SettingWithCopyWarning: \n",
            "A value is trying to be set on a copy of a slice from a DataFrame\n",
            "\n",
            "See the caveats in the documentation: https://pandas.pydata.org/pandas-docs/stable/user_guide/indexing.html#returning-a-view-versus-a-copy\n",
            "  X.drop(col,axis=1,inplace=True)\n",
            "<ipython-input-246-6083621169cd>:3: SettingWithCopyWarning: \n",
            "A value is trying to be set on a copy of a slice from a DataFrame\n",
            "\n",
            "See the caveats in the documentation: https://pandas.pydata.org/pandas-docs/stable/user_guide/indexing.html#returning-a-view-versus-a-copy\n",
            "  X.drop(col,axis=1,inplace=True)\n",
            "<ipython-input-246-6083621169cd>:3: SettingWithCopyWarning: \n",
            "A value is trying to be set on a copy of a slice from a DataFrame\n",
            "\n",
            "See the caveats in the documentation: https://pandas.pydata.org/pandas-docs/stable/user_guide/indexing.html#returning-a-view-versus-a-copy\n",
            "  X.drop(col,axis=1,inplace=True)\n",
            "<ipython-input-246-6083621169cd>:3: SettingWithCopyWarning: \n",
            "A value is trying to be set on a copy of a slice from a DataFrame\n",
            "\n",
            "See the caveats in the documentation: https://pandas.pydata.org/pandas-docs/stable/user_guide/indexing.html#returning-a-view-versus-a-copy\n",
            "  X.drop(col,axis=1,inplace=True)\n",
            "<ipython-input-246-6083621169cd>:3: SettingWithCopyWarning: \n",
            "A value is trying to be set on a copy of a slice from a DataFrame\n",
            "\n",
            "See the caveats in the documentation: https://pandas.pydata.org/pandas-docs/stable/user_guide/indexing.html#returning-a-view-versus-a-copy\n",
            "  X.drop(col,axis=1,inplace=True)\n",
            "<ipython-input-246-6083621169cd>:3: SettingWithCopyWarning: \n",
            "A value is trying to be set on a copy of a slice from a DataFrame\n",
            "\n",
            "See the caveats in the documentation: https://pandas.pydata.org/pandas-docs/stable/user_guide/indexing.html#returning-a-view-versus-a-copy\n",
            "  X.drop(col,axis=1,inplace=True)\n",
            "<ipython-input-246-6083621169cd>:3: SettingWithCopyWarning: \n",
            "A value is trying to be set on a copy of a slice from a DataFrame\n",
            "\n",
            "See the caveats in the documentation: https://pandas.pydata.org/pandas-docs/stable/user_guide/indexing.html#returning-a-view-versus-a-copy\n",
            "  X.drop(col,axis=1,inplace=True)\n",
            "<ipython-input-246-6083621169cd>:3: SettingWithCopyWarning: \n",
            "A value is trying to be set on a copy of a slice from a DataFrame\n",
            "\n",
            "See the caveats in the documentation: https://pandas.pydata.org/pandas-docs/stable/user_guide/indexing.html#returning-a-view-versus-a-copy\n",
            "  X.drop(col,axis=1,inplace=True)\n",
            "<ipython-input-246-6083621169cd>:3: SettingWithCopyWarning: \n",
            "A value is trying to be set on a copy of a slice from a DataFrame\n",
            "\n",
            "See the caveats in the documentation: https://pandas.pydata.org/pandas-docs/stable/user_guide/indexing.html#returning-a-view-versus-a-copy\n",
            "  X.drop(col,axis=1,inplace=True)\n",
            "<ipython-input-246-6083621169cd>:3: SettingWithCopyWarning: \n",
            "A value is trying to be set on a copy of a slice from a DataFrame\n",
            "\n",
            "See the caveats in the documentation: https://pandas.pydata.org/pandas-docs/stable/user_guide/indexing.html#returning-a-view-versus-a-copy\n",
            "  X.drop(col,axis=1,inplace=True)\n",
            "<ipython-input-246-6083621169cd>:3: SettingWithCopyWarning: \n",
            "A value is trying to be set on a copy of a slice from a DataFrame\n",
            "\n",
            "See the caveats in the documentation: https://pandas.pydata.org/pandas-docs/stable/user_guide/indexing.html#returning-a-view-versus-a-copy\n",
            "  X.drop(col,axis=1,inplace=True)\n",
            "<ipython-input-246-6083621169cd>:3: SettingWithCopyWarning: \n",
            "A value is trying to be set on a copy of a slice from a DataFrame\n",
            "\n",
            "See the caveats in the documentation: https://pandas.pydata.org/pandas-docs/stable/user_guide/indexing.html#returning-a-view-versus-a-copy\n",
            "  X.drop(col,axis=1,inplace=True)\n",
            "<ipython-input-246-6083621169cd>:3: SettingWithCopyWarning: \n",
            "A value is trying to be set on a copy of a slice from a DataFrame\n",
            "\n",
            "See the caveats in the documentation: https://pandas.pydata.org/pandas-docs/stable/user_guide/indexing.html#returning-a-view-versus-a-copy\n",
            "  X.drop(col,axis=1,inplace=True)\n",
            "<ipython-input-246-6083621169cd>:3: SettingWithCopyWarning: \n",
            "A value is trying to be set on a copy of a slice from a DataFrame\n",
            "\n",
            "See the caveats in the documentation: https://pandas.pydata.org/pandas-docs/stable/user_guide/indexing.html#returning-a-view-versus-a-copy\n",
            "  X.drop(col,axis=1,inplace=True)\n",
            "<ipython-input-246-6083621169cd>:3: SettingWithCopyWarning: \n",
            "A value is trying to be set on a copy of a slice from a DataFrame\n",
            "\n",
            "See the caveats in the documentation: https://pandas.pydata.org/pandas-docs/stable/user_guide/indexing.html#returning-a-view-versus-a-copy\n",
            "  X.drop(col,axis=1,inplace=True)\n",
            "<ipython-input-246-6083621169cd>:3: SettingWithCopyWarning: \n",
            "A value is trying to be set on a copy of a slice from a DataFrame\n",
            "\n",
            "See the caveats in the documentation: https://pandas.pydata.org/pandas-docs/stable/user_guide/indexing.html#returning-a-view-versus-a-copy\n",
            "  X.drop(col,axis=1,inplace=True)\n",
            "<ipython-input-246-6083621169cd>:3: SettingWithCopyWarning: \n",
            "A value is trying to be set on a copy of a slice from a DataFrame\n",
            "\n",
            "See the caveats in the documentation: https://pandas.pydata.org/pandas-docs/stable/user_guide/indexing.html#returning-a-view-versus-a-copy\n",
            "  X.drop(col,axis=1,inplace=True)\n",
            "<ipython-input-246-6083621169cd>:3: SettingWithCopyWarning: \n",
            "A value is trying to be set on a copy of a slice from a DataFrame\n",
            "\n",
            "See the caveats in the documentation: https://pandas.pydata.org/pandas-docs/stable/user_guide/indexing.html#returning-a-view-versus-a-copy\n",
            "  X.drop(col,axis=1,inplace=True)\n",
            "<ipython-input-246-6083621169cd>:3: SettingWithCopyWarning: \n",
            "A value is trying to be set on a copy of a slice from a DataFrame\n",
            "\n",
            "See the caveats in the documentation: https://pandas.pydata.org/pandas-docs/stable/user_guide/indexing.html#returning-a-view-versus-a-copy\n",
            "  X.drop(col,axis=1,inplace=True)\n",
            "<ipython-input-246-6083621169cd>:3: SettingWithCopyWarning: \n",
            "A value is trying to be set on a copy of a slice from a DataFrame\n",
            "\n",
            "See the caveats in the documentation: https://pandas.pydata.org/pandas-docs/stable/user_guide/indexing.html#returning-a-view-versus-a-copy\n",
            "  X.drop(col,axis=1,inplace=True)\n",
            "<ipython-input-246-6083621169cd>:3: SettingWithCopyWarning: \n",
            "A value is trying to be set on a copy of a slice from a DataFrame\n",
            "\n",
            "See the caveats in the documentation: https://pandas.pydata.org/pandas-docs/stable/user_guide/indexing.html#returning-a-view-versus-a-copy\n",
            "  X.drop(col,axis=1,inplace=True)\n",
            "<ipython-input-246-6083621169cd>:3: SettingWithCopyWarning: \n",
            "A value is trying to be set on a copy of a slice from a DataFrame\n",
            "\n",
            "See the caveats in the documentation: https://pandas.pydata.org/pandas-docs/stable/user_guide/indexing.html#returning-a-view-versus-a-copy\n",
            "  X.drop(col,axis=1,inplace=True)\n",
            "<ipython-input-246-6083621169cd>:3: SettingWithCopyWarning: \n",
            "A value is trying to be set on a copy of a slice from a DataFrame\n",
            "\n",
            "See the caveats in the documentation: https://pandas.pydata.org/pandas-docs/stable/user_guide/indexing.html#returning-a-view-versus-a-copy\n",
            "  X.drop(col,axis=1,inplace=True)\n",
            "<ipython-input-246-6083621169cd>:3: SettingWithCopyWarning: \n",
            "A value is trying to be set on a copy of a slice from a DataFrame\n",
            "\n",
            "See the caveats in the documentation: https://pandas.pydata.org/pandas-docs/stable/user_guide/indexing.html#returning-a-view-versus-a-copy\n",
            "  X.drop(col,axis=1,inplace=True)\n",
            "<ipython-input-246-6083621169cd>:3: SettingWithCopyWarning: \n",
            "A value is trying to be set on a copy of a slice from a DataFrame\n",
            "\n",
            "See the caveats in the documentation: https://pandas.pydata.org/pandas-docs/stable/user_guide/indexing.html#returning-a-view-versus-a-copy\n",
            "  X.drop(col,axis=1,inplace=True)\n",
            "<ipython-input-246-6083621169cd>:3: SettingWithCopyWarning: \n",
            "A value is trying to be set on a copy of a slice from a DataFrame\n",
            "\n",
            "See the caveats in the documentation: https://pandas.pydata.org/pandas-docs/stable/user_guide/indexing.html#returning-a-view-versus-a-copy\n",
            "  X.drop(col,axis=1,inplace=True)\n",
            "<ipython-input-246-6083621169cd>:3: SettingWithCopyWarning: \n",
            "A value is trying to be set on a copy of a slice from a DataFrame\n",
            "\n",
            "See the caveats in the documentation: https://pandas.pydata.org/pandas-docs/stable/user_guide/indexing.html#returning-a-view-versus-a-copy\n",
            "  X.drop(col,axis=1,inplace=True)\n",
            "<ipython-input-246-6083621169cd>:3: SettingWithCopyWarning: \n",
            "A value is trying to be set on a copy of a slice from a DataFrame\n",
            "\n",
            "See the caveats in the documentation: https://pandas.pydata.org/pandas-docs/stable/user_guide/indexing.html#returning-a-view-versus-a-copy\n",
            "  X.drop(col,axis=1,inplace=True)\n",
            "<ipython-input-246-6083621169cd>:3: SettingWithCopyWarning: \n",
            "A value is trying to be set on a copy of a slice from a DataFrame\n",
            "\n",
            "See the caveats in the documentation: https://pandas.pydata.org/pandas-docs/stable/user_guide/indexing.html#returning-a-view-versus-a-copy\n",
            "  X.drop(col,axis=1,inplace=True)\n",
            "<ipython-input-246-6083621169cd>:3: SettingWithCopyWarning: \n",
            "A value is trying to be set on a copy of a slice from a DataFrame\n",
            "\n",
            "See the caveats in the documentation: https://pandas.pydata.org/pandas-docs/stable/user_guide/indexing.html#returning-a-view-versus-a-copy\n",
            "  X.drop(col,axis=1,inplace=True)\n",
            "<ipython-input-246-6083621169cd>:3: SettingWithCopyWarning: \n",
            "A value is trying to be set on a copy of a slice from a DataFrame\n",
            "\n",
            "See the caveats in the documentation: https://pandas.pydata.org/pandas-docs/stable/user_guide/indexing.html#returning-a-view-versus-a-copy\n",
            "  X.drop(col,axis=1,inplace=True)\n",
            "<ipython-input-246-6083621169cd>:3: SettingWithCopyWarning: \n",
            "A value is trying to be set on a copy of a slice from a DataFrame\n",
            "\n",
            "See the caveats in the documentation: https://pandas.pydata.org/pandas-docs/stable/user_guide/indexing.html#returning-a-view-versus-a-copy\n",
            "  X.drop(col,axis=1,inplace=True)\n",
            "<ipython-input-246-6083621169cd>:3: SettingWithCopyWarning: \n",
            "A value is trying to be set on a copy of a slice from a DataFrame\n",
            "\n",
            "See the caveats in the documentation: https://pandas.pydata.org/pandas-docs/stable/user_guide/indexing.html#returning-a-view-versus-a-copy\n",
            "  X.drop(col,axis=1,inplace=True)\n",
            "<ipython-input-246-6083621169cd>:3: SettingWithCopyWarning: \n",
            "A value is trying to be set on a copy of a slice from a DataFrame\n",
            "\n",
            "See the caveats in the documentation: https://pandas.pydata.org/pandas-docs/stable/user_guide/indexing.html#returning-a-view-versus-a-copy\n",
            "  X.drop(col,axis=1,inplace=True)\n",
            "<ipython-input-246-6083621169cd>:3: SettingWithCopyWarning: \n",
            "A value is trying to be set on a copy of a slice from a DataFrame\n",
            "\n",
            "See the caveats in the documentation: https://pandas.pydata.org/pandas-docs/stable/user_guide/indexing.html#returning-a-view-versus-a-copy\n",
            "  X.drop(col,axis=1,inplace=True)\n",
            "<ipython-input-246-6083621169cd>:3: SettingWithCopyWarning: \n",
            "A value is trying to be set on a copy of a slice from a DataFrame\n",
            "\n",
            "See the caveats in the documentation: https://pandas.pydata.org/pandas-docs/stable/user_guide/indexing.html#returning-a-view-versus-a-copy\n",
            "  X.drop(col,axis=1,inplace=True)\n",
            "<ipython-input-246-6083621169cd>:3: SettingWithCopyWarning: \n",
            "A value is trying to be set on a copy of a slice from a DataFrame\n",
            "\n",
            "See the caveats in the documentation: https://pandas.pydata.org/pandas-docs/stable/user_guide/indexing.html#returning-a-view-versus-a-copy\n",
            "  X.drop(col,axis=1,inplace=True)\n",
            "<ipython-input-246-6083621169cd>:3: SettingWithCopyWarning: \n",
            "A value is trying to be set on a copy of a slice from a DataFrame\n",
            "\n",
            "See the caveats in the documentation: https://pandas.pydata.org/pandas-docs/stable/user_guide/indexing.html#returning-a-view-versus-a-copy\n",
            "  X.drop(col,axis=1,inplace=True)\n",
            "<ipython-input-246-6083621169cd>:3: SettingWithCopyWarning: \n",
            "A value is trying to be set on a copy of a slice from a DataFrame\n",
            "\n",
            "See the caveats in the documentation: https://pandas.pydata.org/pandas-docs/stable/user_guide/indexing.html#returning-a-view-versus-a-copy\n",
            "  X.drop(col,axis=1,inplace=True)\n",
            "<ipython-input-246-6083621169cd>:3: SettingWithCopyWarning: \n",
            "A value is trying to be set on a copy of a slice from a DataFrame\n",
            "\n",
            "See the caveats in the documentation: https://pandas.pydata.org/pandas-docs/stable/user_guide/indexing.html#returning-a-view-versus-a-copy\n",
            "  X.drop(col,axis=1,inplace=True)\n",
            "<ipython-input-246-6083621169cd>:3: SettingWithCopyWarning: \n",
            "A value is trying to be set on a copy of a slice from a DataFrame\n",
            "\n",
            "See the caveats in the documentation: https://pandas.pydata.org/pandas-docs/stable/user_guide/indexing.html#returning-a-view-versus-a-copy\n",
            "  X.drop(col,axis=1,inplace=True)\n",
            "<ipython-input-246-6083621169cd>:3: SettingWithCopyWarning: \n",
            "A value is trying to be set on a copy of a slice from a DataFrame\n",
            "\n",
            "See the caveats in the documentation: https://pandas.pydata.org/pandas-docs/stable/user_guide/indexing.html#returning-a-view-versus-a-copy\n",
            "  X.drop(col,axis=1,inplace=True)\n",
            "<ipython-input-246-6083621169cd>:3: SettingWithCopyWarning: \n",
            "A value is trying to be set on a copy of a slice from a DataFrame\n",
            "\n",
            "See the caveats in the documentation: https://pandas.pydata.org/pandas-docs/stable/user_guide/indexing.html#returning-a-view-versus-a-copy\n",
            "  X.drop(col,axis=1,inplace=True)\n",
            "<ipython-input-246-6083621169cd>:3: SettingWithCopyWarning: \n",
            "A value is trying to be set on a copy of a slice from a DataFrame\n",
            "\n",
            "See the caveats in the documentation: https://pandas.pydata.org/pandas-docs/stable/user_guide/indexing.html#returning-a-view-versus-a-copy\n",
            "  X.drop(col,axis=1,inplace=True)\n",
            "<ipython-input-246-6083621169cd>:3: SettingWithCopyWarning: \n",
            "A value is trying to be set on a copy of a slice from a DataFrame\n",
            "\n",
            "See the caveats in the documentation: https://pandas.pydata.org/pandas-docs/stable/user_guide/indexing.html#returning-a-view-versus-a-copy\n",
            "  X.drop(col,axis=1,inplace=True)\n",
            "<ipython-input-246-6083621169cd>:3: SettingWithCopyWarning: \n",
            "A value is trying to be set on a copy of a slice from a DataFrame\n",
            "\n",
            "See the caveats in the documentation: https://pandas.pydata.org/pandas-docs/stable/user_guide/indexing.html#returning-a-view-versus-a-copy\n",
            "  X.drop(col,axis=1,inplace=True)\n",
            "<ipython-input-246-6083621169cd>:3: SettingWithCopyWarning: \n",
            "A value is trying to be set on a copy of a slice from a DataFrame\n",
            "\n",
            "See the caveats in the documentation: https://pandas.pydata.org/pandas-docs/stable/user_guide/indexing.html#returning-a-view-versus-a-copy\n",
            "  X.drop(col,axis=1,inplace=True)\n",
            "<ipython-input-246-6083621169cd>:3: SettingWithCopyWarning: \n",
            "A value is trying to be set on a copy of a slice from a DataFrame\n",
            "\n",
            "See the caveats in the documentation: https://pandas.pydata.org/pandas-docs/stable/user_guide/indexing.html#returning-a-view-versus-a-copy\n",
            "  X.drop(col,axis=1,inplace=True)\n",
            "<ipython-input-246-6083621169cd>:3: SettingWithCopyWarning: \n",
            "A value is trying to be set on a copy of a slice from a DataFrame\n",
            "\n",
            "See the caveats in the documentation: https://pandas.pydata.org/pandas-docs/stable/user_guide/indexing.html#returning-a-view-versus-a-copy\n",
            "  X.drop(col,axis=1,inplace=True)\n",
            "<ipython-input-246-6083621169cd>:3: SettingWithCopyWarning: \n",
            "A value is trying to be set on a copy of a slice from a DataFrame\n",
            "\n",
            "See the caveats in the documentation: https://pandas.pydata.org/pandas-docs/stable/user_guide/indexing.html#returning-a-view-versus-a-copy\n",
            "  X.drop(col,axis=1,inplace=True)\n",
            "<ipython-input-246-6083621169cd>:3: SettingWithCopyWarning: \n",
            "A value is trying to be set on a copy of a slice from a DataFrame\n",
            "\n",
            "See the caveats in the documentation: https://pandas.pydata.org/pandas-docs/stable/user_guide/indexing.html#returning-a-view-versus-a-copy\n",
            "  X.drop(col,axis=1,inplace=True)\n",
            "<ipython-input-246-6083621169cd>:3: SettingWithCopyWarning: \n",
            "A value is trying to be set on a copy of a slice from a DataFrame\n",
            "\n",
            "See the caveats in the documentation: https://pandas.pydata.org/pandas-docs/stable/user_guide/indexing.html#returning-a-view-versus-a-copy\n",
            "  X.drop(col,axis=1,inplace=True)\n",
            "<ipython-input-246-6083621169cd>:3: SettingWithCopyWarning: \n",
            "A value is trying to be set on a copy of a slice from a DataFrame\n",
            "\n",
            "See the caveats in the documentation: https://pandas.pydata.org/pandas-docs/stable/user_guide/indexing.html#returning-a-view-versus-a-copy\n",
            "  X.drop(col,axis=1,inplace=True)\n",
            "<ipython-input-246-6083621169cd>:3: SettingWithCopyWarning: \n",
            "A value is trying to be set on a copy of a slice from a DataFrame\n",
            "\n",
            "See the caveats in the documentation: https://pandas.pydata.org/pandas-docs/stable/user_guide/indexing.html#returning-a-view-versus-a-copy\n",
            "  X.drop(col,axis=1,inplace=True)\n",
            "<ipython-input-246-6083621169cd>:3: SettingWithCopyWarning: \n",
            "A value is trying to be set on a copy of a slice from a DataFrame\n",
            "\n",
            "See the caveats in the documentation: https://pandas.pydata.org/pandas-docs/stable/user_guide/indexing.html#returning-a-view-versus-a-copy\n",
            "  X.drop(col,axis=1,inplace=True)\n",
            "<ipython-input-246-6083621169cd>:3: SettingWithCopyWarning: \n",
            "A value is trying to be set on a copy of a slice from a DataFrame\n",
            "\n",
            "See the caveats in the documentation: https://pandas.pydata.org/pandas-docs/stable/user_guide/indexing.html#returning-a-view-versus-a-copy\n",
            "  X.drop(col,axis=1,inplace=True)\n",
            "<ipython-input-246-6083621169cd>:3: SettingWithCopyWarning: \n",
            "A value is trying to be set on a copy of a slice from a DataFrame\n",
            "\n",
            "See the caveats in the documentation: https://pandas.pydata.org/pandas-docs/stable/user_guide/indexing.html#returning-a-view-versus-a-copy\n",
            "  X.drop(col,axis=1,inplace=True)\n",
            "<ipython-input-246-6083621169cd>:3: SettingWithCopyWarning: \n",
            "A value is trying to be set on a copy of a slice from a DataFrame\n",
            "\n",
            "See the caveats in the documentation: https://pandas.pydata.org/pandas-docs/stable/user_guide/indexing.html#returning-a-view-versus-a-copy\n",
            "  X.drop(col,axis=1,inplace=True)\n"
          ]
        }
      ]
    },
    {
      "cell_type": "code",
      "source": [
        "X.shape,y.shape"
      ],
      "metadata": {
        "colab": {
          "base_uri": "https://localhost:8080/"
        },
        "id": "Zx-bHrsR1jQP",
        "outputId": "8f92563f-a8c3-48b8-cab2-de6aa61480ba"
      },
      "execution_count": 247,
      "outputs": [
        {
          "output_type": "execute_result",
          "data": {
            "text/plain": [
              "((70000, 719), (70000,))"
            ]
          },
          "metadata": {},
          "execution_count": 247
        }
      ]
    },
    {
      "cell_type": "code",
      "execution_count": 248,
      "metadata": {
        "id": "84tkro9MwMKx",
        "colab": {
          "base_uri": "https://localhost:8080/"
        },
        "outputId": "3ceeb7dc-e6bb-4065-9d1d-2ac7e320034c"
      },
      "outputs": [
        {
          "output_type": "execute_result",
          "data": {
            "text/plain": [
              "(70000, 719)"
            ]
          },
          "metadata": {},
          "execution_count": 248
        }
      ],
      "source": [
        "scaler = Normalizer()\n",
        "scaler.fit(X)\n",
        "X_standard = scaler.transform(X)\n",
        "X_standard.shape"
      ]
    },
    {
      "cell_type": "markdown",
      "metadata": {
        "id": "kGFVBXdyiHYq"
      },
      "source": [
        "### splitting the data <a name=\"1.3\"></a>"
      ]
    },
    {
      "cell_type": "code",
      "execution_count": 249,
      "metadata": {
        "id": "MQoc81GvxuW3"
      },
      "outputs": [],
      "source": [
        "X_train,xx,y_train,yy = train_test_split(X_standard,y,test_size=.98,random_state=0)\n",
        "X_test,X_val,y_test,y_val = train_test_split(xx,yy,test_size=.9,random_state=0)"
      ]
    },
    {
      "cell_type": "code",
      "execution_count": 250,
      "metadata": {
        "id": "lSWx5JYD7LyD",
        "colab": {
          "base_uri": "https://localhost:8080/"
        },
        "outputId": "e0f68507-70c6-41c0-f779-f19d872a72c1"
      },
      "outputs": [
        {
          "output_type": "execute_result",
          "data": {
            "text/plain": [
              "((1400, 719), (6860, 719), (61740, 719), (1400,), (6860,), (61740,))"
            ]
          },
          "metadata": {},
          "execution_count": 250
        }
      ],
      "source": [
        "X_train.shape,X_test.shape,X_val.shape,y_train.shape,y_test.shape,y_val.shape"
      ]
    },
    {
      "cell_type": "markdown",
      "metadata": {
        "id": "F1uXI7CHhkqK"
      },
      "source": [
        "## 2. Using SVM Model <a name=\"2\"></a>\n",
        "* ### [Making Support Vector Training function](#2.1)\n",
        "  * SVT is a function that passing quadratic equation( consisting of alpha and it's parameters) in addition to SVM conistrains to (cvxpy) quadrating programing library\n",
        "* ### [SVM training function for every category](#2.3)\n",
        "  * claculate alpha, w and b for every category to use it for prediction\n",
        "* ### [formulating the classifier function](#2.4)\n",
        "* ### [training data with diffrant C values](#2.5)\n",
        "  * train the data with diffrant C values and test it with validation set\n",
        "  * then choose highest accuracy and test it with test set to know the actual accuracy of the model\n"
      ]
    },
    {
      "cell_type": "markdown",
      "metadata": {
        "id": "tk_S5WmCLrxG"
      },
      "source": [
        "### Making Support Vector Training function <a name=\"2.1\"></a>"
      ]
    },
    {
      "cell_type": "code",
      "execution_count": 251,
      "metadata": {
        "id": "ajBn3OsmjZfy"
      },
      "outputs": [],
      "source": [
        "def SVT(X_train, y_train, P, C=1):\n",
        "    solvers.options['abstol'] = 1e-9\n",
        "    solvers.options['reltol'] = 1e-6\n",
        "    solvers.options['feastol'] = 1e-8\n",
        "    solvers.options['maxiters'] = 1000\n",
        "    solvers.options['show_progress'] = False\n",
        "\n",
        "    m, n = X_train.shape\n",
        "    P = (y_train @ y_train.T) * P\n",
        "    P = matrix(P,tc='d')\n",
        "    q = matrix(-np.ones((m, 1)))\n",
        "    A = matrix(y_train.reshape(1, -1),tc='d')\n",
        "    b = matrix(np.zeros(1))\n",
        "    G = matrix(np.vstack((-np.eye(m), np.eye(m))))\n",
        "    h = matrix(np.vstack((np.zeros((m, 1)), np.ones((m, 1)) * C)))\n",
        "\n",
        "    alpha = solvers.qp(P, q, G, h, A, b)['x']\n",
        "    alpha = np.array(alpha).reshape(-1,1)\n",
        "\n",
        "    w = np.sum(alpha * y_train * X_train, axis=0)\n",
        "    support_mask = ((alpha > 0) & (alpha < C)).flatten()\n",
        "    b = np.mean(y_train[support_mask] - X_train[support_mask] @ w)\n",
        "    return alpha.flatten(), w, b\n"
      ]
    },
    {
      "cell_type": "markdown",
      "metadata": {
        "id": "GlzR-XM1L5Rb"
      },
      "source": [
        "### SVM training function for every category <a name=\"2.3\"></a>"
      ]
    },
    {
      "cell_type": "code",
      "source": [
        "def train_SVM(X_train, y_train, C=1):\n",
        "    m, n = X_train.shape\n",
        "    W = np.zeros((n,10))\n",
        "    alphas = np.zeros((m,10))\n",
        "    bs = np.zeros(10)\n",
        "    P = X_train @ X_train.T\n",
        "    for i in range(10):\n",
        "        yi = np.where(y_train == i,1,-1).reshape(-1,1)\n",
        "\n",
        "        alpha, w, b = SVT(X_train, yi, P, C)\n",
        "        alphas[:,i] = alpha\n",
        "        W[:,i] = w\n",
        "        bs[i] = b\n",
        "        print(\"operation\",i,\"done\")\n",
        "\n",
        "    return alphas, W, bs"
      ],
      "metadata": {
        "id": "Hrbj_QK4impA"
      },
      "execution_count": 252,
      "outputs": []
    },
    {
      "cell_type": "markdown",
      "metadata": {
        "id": "KmDIGR8ZMaQi"
      },
      "source": [
        "###formulating the classifier function <a name=\"2.4\"></a>"
      ]
    },
    {
      "cell_type": "code",
      "execution_count": 253,
      "metadata": {
        "id": "QLwm4VuRMjZD"
      },
      "outputs": [],
      "source": [
        "def classifier(X, W, bs):\n",
        "    return np.argmax(X @ W + bs,axis=1)"
      ]
    },
    {
      "cell_type": "markdown",
      "source": [
        "###training data with diffrant C values <a name=\"2.5\"></a>"
      ],
      "metadata": {
        "id": "FeVR0ns2wOcs"
      }
    },
    {
      "cell_type": "code",
      "execution_count": 254,
      "metadata": {
        "colab": {
          "base_uri": "https://localhost:8080/"
        },
        "collapsed": true,
        "id": "fI4QLWpS0osY",
        "outputId": "e75aa78f-6dd4-4941-c11d-08ab8e5db490"
      },
      "outputs": [
        {
          "output_type": "stream",
          "name": "stdout",
          "text": [
            "operation 0 done\n",
            "operation 1 done\n",
            "operation 2 done\n",
            "operation 3 done\n",
            "operation 4 done\n",
            "operation 5 done\n",
            "operation 6 done\n",
            "operation 7 done\n",
            "operation 8 done\n",
            "operation 9 done\n",
            "c: 2 operation done\n",
            "operation 0 done\n",
            "operation 1 done\n",
            "operation 2 done\n",
            "operation 3 done\n",
            "operation 4 done\n",
            "operation 5 done\n",
            "operation 6 done\n",
            "operation 7 done\n",
            "operation 8 done\n",
            "operation 9 done\n",
            "c: 3 operation done\n",
            "operation 0 done\n",
            "operation 1 done\n",
            "operation 2 done\n",
            "operation 3 done\n",
            "operation 4 done\n",
            "operation 5 done\n",
            "operation 6 done\n",
            "operation 7 done\n",
            "operation 8 done\n",
            "operation 9 done\n",
            "c: 5 operation done\n",
            "operation 0 done\n",
            "operation 1 done\n",
            "operation 2 done\n",
            "operation 3 done\n",
            "operation 4 done\n",
            "operation 5 done\n",
            "operation 6 done\n",
            "operation 7 done\n",
            "operation 8 done\n",
            "operation 9 done\n",
            "c: 7 operation done\n",
            "operation 0 done\n",
            "operation 1 done\n",
            "operation 2 done\n",
            "operation 3 done\n",
            "operation 4 done\n",
            "operation 5 done\n",
            "operation 6 done\n",
            "operation 7 done\n",
            "operation 8 done\n",
            "operation 9 done\n",
            "c: 8 operation done\n",
            "operation 0 done\n",
            "operation 1 done\n",
            "operation 2 done\n",
            "operation 3 done\n",
            "operation 4 done\n",
            "operation 5 done\n",
            "operation 6 done\n",
            "operation 7 done\n",
            "operation 8 done\n",
            "operation 9 done\n",
            "c: 9 operation done\n"
          ]
        }
      ],
      "source": [
        "C = [2, 3, 5, 7, 8, 9]\n",
        "acc = []\n",
        "for c in C:\n",
        "    alphas, W, bs = train_SVM(X_train, y_train, c)\n",
        "    y_predict = classifier(X_val,W,bs)\n",
        "    acc.append(accuracy_score(y_val, y_predict))\n",
        "    print(f\"c: {c} operation done\")"
      ]
    },
    {
      "cell_type": "code",
      "source": [
        "c = C[np.argmax(acc)]\n",
        "print(f\"max. C = {c}\")\n",
        "alphas, W, bs = train_SVM(X_train, y_train, c)\n",
        "y_predict = classifier(X_test,W,bs)\n",
        "print(classification_report(y_test, y_predict))\n",
        "print(accuracy_score(y_test, y_predict))"
      ],
      "metadata": {
        "colab": {
          "base_uri": "https://localhost:8080/"
        },
        "id": "-ywyprT1n7VK",
        "outputId": "0ab25a67-da9d-486d-a077-c0c337bd2dd8"
      },
      "execution_count": 255,
      "outputs": [
        {
          "output_type": "stream",
          "name": "stdout",
          "text": [
            "max. C = 5\n",
            "operation 0 done\n",
            "operation 1 done\n",
            "operation 2 done\n",
            "operation 3 done\n",
            "operation 4 done\n",
            "operation 5 done\n",
            "operation 6 done\n",
            "operation 7 done\n",
            "operation 8 done\n",
            "operation 9 done\n",
            "              precision    recall  f1-score   support\n",
            "\n",
            "           0       0.89      0.97      0.92       716\n",
            "           1       0.87      0.98      0.92       736\n",
            "           2       0.89      0.81      0.85       711\n",
            "           3       0.84      0.85      0.84       697\n",
            "           4       0.80      0.88      0.84       644\n",
            "           5       0.89      0.75      0.81       605\n",
            "           6       0.86      0.96      0.91       687\n",
            "           7       0.93      0.85      0.89       649\n",
            "           8       0.89      0.74      0.81       689\n",
            "           9       0.82      0.84      0.83       726\n",
            "\n",
            "    accuracy                           0.86      6860\n",
            "   macro avg       0.87      0.86      0.86      6860\n",
            "weighted avg       0.87      0.86      0.86      6860\n",
            "\n",
            "0.8644314868804664\n"
          ]
        }
      ]
    },
    {
      "cell_type": "code",
      "source": [
        "for i in range(6):\n",
        "  print(f\"c: {C[i]},accuracy: {acc[i]}\")"
      ],
      "metadata": {
        "colab": {
          "base_uri": "https://localhost:8080/"
        },
        "id": "b2WdbQQ-qqis",
        "outputId": "f6d6d966-885c-475b-ac71-125ca0609a04"
      },
      "execution_count": 256,
      "outputs": [
        {
          "output_type": "stream",
          "name": "stdout",
          "text": [
            "c: 2,accuracy: 0.8610463232912212\n",
            "c: 3,accuracy: 0.8636702299967606\n",
            "c: 5,accuracy: 0.8650469711694202\n",
            "c: 7,accuracy: 0.8633462908973113\n",
            "c: 8,accuracy: 0.8630061548428896\n",
            "c: 9,accuracy: 0.8623096857790735\n"
          ]
        }
      ]
    }
  ],
  "metadata": {
    "colab": {
      "provenance": []
    },
    "kernelspec": {
      "display_name": "Python 3",
      "name": "python3"
    },
    "language_info": {
      "name": "python"
    }
  },
  "nbformat": 4,
  "nbformat_minor": 0
}