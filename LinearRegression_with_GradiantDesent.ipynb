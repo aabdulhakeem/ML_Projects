{
 "cells": [
  {
   "cell_type": "code",
   "execution_count": 60,
   "metadata": {
    "id": "RvkPlkc6OWiR"
   },
   "outputs": [],
   "source": [
    "import numpy as np\n",
    "import pandas as pd\n",
    "import matplotlib.pyplot as plt\n",
    "from sklearn.datasets import make_regression\n",
    "from sklearn.model_selection import train_test_split"
   ]
  },
  {
   "cell_type": "code",
   "execution_count": 61,
   "metadata": {
    "colab": {
     "base_uri": "https://localhost:8080/"
    },
    "id": "weFJ60W_OodR",
    "outputId": "6bc7f49c-e5e7-48ab-ed69-87eacc4e73b8"
   },
   "outputs": [
    {
     "name": "stdout",
     "output_type": "stream",
     "text": [
      "(1000, 4) (1000,) [ 0.         23.91073238 64.42258745 70.45221957]\n"
     ]
    },
    {
     "data": {
      "text/plain": [
       "array([[ 1.        , -0.32184566,  0.21840433, -0.61583433],\n",
       "       [ 1.        , -0.50469189,  1.1870829 ,  1.21019048],\n",
       "       [ 1.        , -0.40427459,  0.04240531,  0.90706733],\n",
       "       [ 1.        , -0.28311126, -2.49709425, -1.19391298],\n",
       "       [ 1.        ,  0.28564727, -0.66061428,  0.32435738],\n",
       "       [ 1.        ,  0.04283086, -0.95593841, -0.30275126]])"
      ]
     },
     "execution_count": 61,
     "metadata": {},
     "output_type": "execute_result"
    }
   ],
   "source": [
    "X, y,expected_w = make_regression(n_samples = 1000,n_features=3, coef=True)\n",
    "expected_w = np.insert(expected_w,0,0)\n",
    "X = np.insert(X,0,np.ones(1000),axis=1)\n",
    "print(X.shape,y.shape,expected_w)\n",
    "X[:6,:]"
   ]
  },
  {
   "cell_type": "code",
   "execution_count": 62,
   "metadata": {
    "colab": {
     "base_uri": "https://localhost:8080/"
    },
    "id": "P1b42xHTW-gd",
    "outputId": "b7850a99-59ed-491d-925c-becbbfec75b3"
   },
   "outputs": [
    {
     "data": {
      "text/plain": [
       "((750, 4), (250, 4), (750,), (250,))"
      ]
     },
     "execution_count": 62,
     "metadata": {},
     "output_type": "execute_result"
    }
   ],
   "source": [
    "X_train, X_test, y_train, y_test = train_test_split(X,y,test_size=.25)\n",
    "X_train.shape,X_test.shape,y_train.shape,y_test.shape"
   ]
  },
  {
   "cell_type": "code",
   "execution_count": 63,
   "metadata": {
    "colab": {
     "base_uri": "https://localhost:8080/"
    },
    "id": "y99XSg3RX0tt",
    "outputId": "51c276dc-7c45-41c2-c0cd-f01c110738c6"
   },
   "outputs": [
    {
     "data": {
      "text/plain": [
       "(4,)"
      ]
     },
     "execution_count": 63,
     "metadata": {},
     "output_type": "execute_result"
    }
   ],
   "source": [
    "w = np.zeros(4)\n",
    "w.shape"
   ]
  },
  {
   "cell_type": "code",
   "execution_count": 64,
   "metadata": {
    "id": "uuKcv0ftaO7h"
   },
   "outputs": [],
   "source": [
    "def loss(X, y, w):\n",
    "\n",
    "    l = (np.dot(X,w)-y)\n",
    "    l = np.dot(l.T,l)\n",
    "    return l/(2 * X.shape[0])"
   ]
  },
  {
   "cell_type": "code",
   "execution_count": 65,
   "metadata": {
    "id": "gf_XfU63RNzd"
   },
   "outputs": [],
   "source": [
    "def gradient(X, y, w):\n",
    "\n",
    "    dj_dw = np.dot(X,w)-y\n",
    "    dj_dw = np.dot(X.T,dj_dw)\n",
    "    return dj_dw/X.shape[0]"
   ]
  },
  {
   "cell_type": "code",
   "execution_count": 66,
   "metadata": {
    "colab": {
     "base_uri": "https://localhost:8080/"
    },
    "id": "dWLnjCfPajj3",
    "outputId": "aa8f23b9-34d7-40ee-df8d-32f1702bf753"
   },
   "outputs": [
    {
     "data": {
      "text/plain": [
       "array([  3.84500396, -14.24959684, -61.7568569 , -71.47796749])"
      ]
     },
     "execution_count": 66,
     "metadata": {},
     "output_type": "execute_result"
    }
   ],
   "source": [
    "dj = gradient(X_train,y_train,w)\n",
    "dj"
   ]
  },
  {
   "cell_type": "code",
   "execution_count": 67,
   "metadata": {
    "id": "y6RvPR7XWgdp"
   },
   "outputs": [],
   "source": [
    "def gradientDescent(X, y, w, alpha=0.01, iteration=1000):\n",
    "\n",
    "      for i in range(iteration):\n",
    "            dj_dw = gradient(X,y,w)\n",
    "            w = w - alpha * dj_dw\n",
    "            if (i%10) == 0 or i == iteration-1:\n",
    "                los = loss(X,y,w)\n",
    "                print(f\"itration {i}, loss = {los:.2e} w = {w},\")\n",
    "      return w"
   ]
  },
  {
   "cell_type": "code",
   "execution_count": 68,
   "metadata": {
    "colab": {
     "base_uri": "https://localhost:8080/"
    },
    "id": "x_8SEtzTYcO-",
    "outputId": "bc2005ba-ba74-4dd3-8d3f-f146861124be"
   },
   "outputs": [
    {
     "name": "stdout",
     "output_type": "stream",
     "text": [
      "itration 0, loss = 8.19e+02 w = [-2.30700238  8.5497581  37.05411414 42.88678049],\n",
      "itration 10, loss = 1.96e-04 w = [-4.52531117e-03  2.38942733e+01  6.44129278e+01  7.04441207e+01],\n",
      "itration 20, loss = 7.59e-11 w = [-2.68999450e-06  2.39107216e+01  6.44225827e+01  7.04522142e+01],\n",
      "itration 30, loss = 3.03e-17 w = [-1.62111569e-09  2.39107324e+01  6.44225874e+01  7.04522196e+01],\n",
      "itration 40, loss = 1.23e-23 w = [-9.97393333e-13  2.39107324e+01  6.44225874e+01  7.04522196e+01],\n",
      "itration 50, loss = 4.12e-29 w = [-1.99583570e-15  2.39107324e+01  6.44225874e+01  7.04522196e+01],\n",
      "itration 60, loss = 3.92e-29 w = [-3.64473986e-16  2.39107324e+01  6.44225874e+01  7.04522196e+01],\n",
      "itration 70, loss = 3.91e-29 w = [-1.98606666e-16  2.39107324e+01  6.44225874e+01  7.04522196e+01],\n",
      "itration 80, loss = 3.91e-29 w = [-1.62413395e-16  2.39107324e+01  6.44225874e+01  7.04522196e+01],\n",
      "itration 90, loss = 3.91e-29 w = [-1.26220125e-16  2.39107324e+01  6.44225874e+01  7.04522196e+01],\n",
      "itration 99, loss = 3.91e-29 w = [-1.05014865e-16  2.39107324e+01  6.44225874e+01  7.04522196e+01],\n"
     ]
    },
    {
     "data": {
      "text/plain": [
       "array([-1.05014865e-16,  2.39107324e+01,  6.44225874e+01,  7.04522196e+01])"
      ]
     },
     "execution_count": 68,
     "metadata": {},
     "output_type": "execute_result"
    }
   ],
   "source": [
    "updated_w = gradientDescent(X_train,y_train,w,6e-1,100)\n",
    "updated_w"
   ]
  },
  {
   "cell_type": "code",
   "execution_count": 69,
   "metadata": {
    "colab": {
     "base_uri": "https://localhost:8080/"
    },
    "id": "LG_oaKncS0sF",
    "outputId": "758761e7-faca-4568-a4a8-de45b2abed18"
   },
   "outputs": [
    {
     "data": {
      "text/plain": [
       "array([1.05014865e-16, 0.00000000e+00, 0.00000000e+00, 0.00000000e+00])"
      ]
     },
     "execution_count": 69,
     "metadata": {},
     "output_type": "execute_result"
    }
   ],
   "source": [
    "expected_w - updated_w"
   ]
  },
  {
   "cell_type": "code",
   "execution_count": 70,
   "metadata": {
    "id": "AoyXrWXeYzla"
   },
   "outputs": [],
   "source": [
    "def predict(X,w):\n",
    "    y = np.dot(X,w)\n",
    "    return y"
   ]
  },
  {
   "cell_type": "code",
   "execution_count": 71,
   "metadata": {
    "id": "_lxZ3NYWvPYu"
   },
   "outputs": [],
   "source": [
    "def MSE(y_hat, y):\n",
    "\n",
    "    e = (y_hat-y)\n",
    "    e = np.dot(e.T,e)\n",
    "    return e/(2 * X.shape[0])"
   ]
  },
  {
   "cell_type": "code",
   "execution_count": 72,
   "metadata": {
    "colab": {
     "base_uri": "https://localhost:8080/"
    },
    "id": "DITn4v29srj_",
    "outputId": "a404d5f0-805d-468f-a824-906b52aee5f9"
   },
   "outputs": [
    {
     "data": {
      "text/plain": [
       "1.0897281403892302e-29"
      ]
     },
     "execution_count": 72,
     "metadata": {},
     "output_type": "execute_result"
    }
   ],
   "source": [
    "y_hat = predict(X_test,updated_w)\n",
    "MSE(y_hat,y_test)"
   ]
  },
  {
   "cell_type": "code",
   "execution_count": 73,
   "metadata": {
    "colab": {
     "base_uri": "https://localhost:8080/"
    },
    "id": "XqyQ0_uGuw16",
    "outputId": "286d67e0-d973-4004-e685-a7019177ea00"
   },
   "outputs": [
    {
     "name": "stdout",
     "output_type": "stream",
     "text": [
      "yhat[0] = 81.13128231172655 and y[0] = 81.13128231172655\n",
      "yhat[1] = 26.462961579573626 and y[1] = 26.462961579573626\n",
      "yhat[2] = 205.13651269837771 and y[2] = 205.13651269837774\n",
      "yhat[3] = -17.072792503319047 and y[3] = -17.072792503319047\n",
      "yhat[4] = -30.422586432318425 and y[4] = -30.42258643231843\n"
     ]
    }
   ],
   "source": [
    "for i in range(5):\n",
    "  print(f\"yhat[{i}] = {y_hat[i]} and y[{i}] = {y_test[i]}\")"
   ]
  },
  {
   "cell_type": "code",
   "execution_count": 73,
   "metadata": {
    "id": "z2xkKd588wV0"
   },
   "outputs": [],
   "source": []
  }
 ],
 "metadata": {
  "colab": {
   "provenance": []
  },
  "kernelspec": {
   "display_name": "Python 3",
   "name": "python3"
  },
  "language_info": {
   "name": "python"
  }
 },
 "nbformat": 4,
 "nbformat_minor": 0
}
